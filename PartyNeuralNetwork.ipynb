{
 "cells": [
  {
   "cell_type": "markdown",
   "id": "e3ef87e5",
   "metadata": {},
   "source": [
    "# Neural network party"
   ]
  },
  {
   "cell_type": "code",
   "execution_count": null,
   "id": "06aae038",
   "metadata": {},
   "outputs": [],
   "source": [
    "import numpy as np"
   ]
  },
  {
   "cell_type": "code",
   "execution_count": null,
   "id": "f5ab099a",
   "metadata": {},
   "outputs": [],
   "source": [
    "drinks = 1.0\n",
    "rain = 1.0\n",
    "friend = 1.0"
   ]
  },
  {
   "cell_type": "code",
   "execution_count": null,
   "id": "83251687",
   "metadata": {},
   "outputs": [],
   "source": [
    "def activation_function(x):#старая активационная функция без сигмоиды\n",
    "    if x >= 0.5:\n",
    "        return 1\n",
    "    else:\n",
    "        return 0"
   ]
  },
  {
   "cell_type": "code",
   "execution_count": null,
   "id": "e57488b0",
   "metadata": {},
   "outputs": [],
   "source": [
    "def predict(drinks, rain, friend):\n",
    "    inputs = np.array([drinks, rain, friend])#создание матрицы из входных даных\n",
    "    weights_inputs_to_hiden_1 = [0.25, 0.25, 0]#весы для первого скрытого нейрона\n",
    "    weights_inputs_to_hiden_2 = [0.5, -0.4, 0.9]#весы для второго скрытого нейрона \n",
    "    weights_inputs_to_hiden = np.array([weights_inputs_to_hiden_1, weights_inputs_to_hiden_2])#создание матрицы из весов\n",
    "\n",
    "    weights_hiden_to_output = np.array([-1, 1])#матрица из весов на выходы \n",
    "\n",
    "    hiden_input = np.dot(weights_inputs_to_hiden, inputs)#перемножение двух матриц\n",
    "    print('hiden output: ' + str(hiden_input))\n",
    "\n",
    "    hiden_output = np.array([activation_function(x) for x in hiden_input])#проход через активационную функцию\n",
    "    print('hiden output: ' + str(hiden_output))\n",
    "\n",
    "    output = np.dot(weights_hiden_to_output, hiden_output)#перемножение матриц \n",
    "    print('output: ' + str(output))\n",
    "    return activation_function(output) == 1"
   ]
  },
  {
   "cell_type": "code",
   "execution_count": null,
   "id": "7d294d3a",
   "metadata": {
    "scrolled": true
   },
   "outputs": [],
   "source": [
    "print('result: ' + str(predict(drinks, rain, friend)))"
   ]
  },
  {
   "cell_type": "code",
   "execution_count": null,
   "id": "d826658a",
   "metadata": {},
   "outputs": [],
   "source": [
    "train_values = (\n",
    "    (1, 0, 0, True),\n",
    "    (0, 1, 0, False),\n",
    "    (0, 0, 1, True),\n",
    "    (1, 1, 0, False),\n",
    "    (0, 1, 1, True),\n",
    "    (1, 1, 1, False)\n",
    ")"
   ]
  },
  {
   "cell_type": "code",
   "execution_count": null,
   "id": "3a6fb406",
   "metadata": {},
   "outputs": [],
   "source": [
    "for value in train_values:\n",
    "    print('\\ndrinks: {}; rain: {}; friend: {};\\noutput: {}\\nexpected: {}\\n----------'.format(value[0], value[1], value[2], predict(value[0], value[1], value[2]), value[3]))"
   ]
  }
 ],
 "metadata": {
  "kernelspec": {
   "display_name": "Python 3",
   "language": "python",
   "name": "python3"
  },
  "language_info": {
   "codemirror_mode": {
    "name": "ipython",
    "version": 3
   },
   "file_extension": ".py",
   "mimetype": "text/x-python",
   "name": "python",
   "nbconvert_exporter": "python",
   "pygments_lexer": "ipython3",
   "version": "3.9.0"
  }
 },
 "nbformat": 4,
 "nbformat_minor": 5
}
